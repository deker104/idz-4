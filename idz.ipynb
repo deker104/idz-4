{
 "cells": [
  {
   "attachments": {},
   "cell_type": "markdown",
   "metadata": {},
   "source": [
    "# Индивидуальное домашнее задание по линейной алгебре 4\n",
    "#### Шиндов Даниил Артёмович, 1 курс, БПМИ221\n",
    "\n",
    "Читайте описание в `README.md`"
   ]
  },
  {
   "cell_type": "code",
   "execution_count": 1,
   "metadata": {},
   "outputs": [],
   "source": [
    "import os\n",
    "\n",
    "try:\n",
    "    import google.colab\n",
    "    IS_COLAB = True\n",
    "except ImportError:\n",
    "    IS_COLAB = False\n",
    "\n",
    "if IS_COLAB:\n",
    "    !git clone https://github.com/deker104/idz-4\n",
    "    os.chdir('/content/idz-4')\n",
    "    !git pull"
   ]
  },
  {
   "cell_type": "code",
   "execution_count": 2,
   "metadata": {},
   "outputs": [],
   "source": [
    "from matrix import Matrix\n",
    "from polynomial import Polynomial\n",
    "from fraction import Fraction"
   ]
  },
  {
   "attachments": {},
   "cell_type": "markdown",
   "metadata": {},
   "source": [
    "# Задача 1"
   ]
  },
  {
   "cell_type": "code",
   "execution_count": 3,
   "metadata": {},
   "outputs": [],
   "source": [
    "A = Matrix([\n",
    "    [5, 3, 1, -3],\n",
    "    [1, 6, 1, -2],\n",
    "    [-1, -4, 3, 4],\n",
    "    [1, 2, 1, 2]\n",
    "])\n",
    "\n",
    "B = Matrix([\n",
    "    [3, 1, 3, 1],\n",
    "    [1, 2, -5, -2],\n",
    "    [-1, 2, 9, 2],\n",
    "    [1, -2, -5, 2]\n",
    "])\n",
    "\n",
    "C = Matrix([\n",
    "    [9, -2, -4, 3],\n",
    "    [-3, 6, 3, -2],\n",
    "    [1, -2, 2, 1],\n",
    "    [-9, 2, 6, -1]\n",
    "])"
   ]
  },
  {
   "attachments": {},
   "cell_type": "markdown",
   "metadata": {},
   "source": [
    "Для того чтобы проверить, что матрицы задают один и тот же оператор, достаточно воспользоваться свойством из утверждения о классификации операторов (4 из утверждения 130 в конспекте)."
   ]
  },
  {
   "attachments": {},
   "cell_type": "markdown",
   "metadata": {},
   "source": [
    "Для начала рассмотрим их характеристические многочлены.\n",
    "\n",
    "$\\chi(A) = \\det (A - \\lambda E) = \\lambda^4 - 16 \\lambda^3 + 96 \\lambda^2 - 256 \\lambda + 256 = (\\lambda - 4)^4$\n",
    "\n",
    "$\\chi(B) = \\det (B - \\lambda E) = \\lambda^4 - 16 \\lambda^3 + 96 \\lambda^2 - 256 \\lambda + 256 = (\\lambda - 4)^4$\n",
    "\n",
    "$\\chi(C) = \\det (C - \\lambda E) = \\lambda^4 - 16 \\lambda^3 + 96 \\lambda^2 - 256 \\lambda + 256 = (\\lambda - 4)^4$\n",
    "\n",
    "Характеристические многочлены совпадают, в каждом случае собственным значением является 4 со степенью 4."
   ]
  },
  {
   "attachments": {},
   "cell_type": "markdown",
   "metadata": {},
   "source": [
    "Тогда давайте рассмотрим ранги матриц вида $(A - 4E)^n$ для $n$ от 1 до 4."
   ]
  },
  {
   "cell_type": "code",
   "execution_count": 4,
   "metadata": {},
   "outputs": [
    {
     "name": "stdout",
     "output_type": "stream",
     "text": [
      "rk (A - 4E)^1 =  2\n",
      "rk (A - 4E)^2 =  1\n",
      "rk (A - 4E)^3 =  0\n",
      "\n",
      "rk (B - 4E)^1 =  2\n",
      "rk (B - 4E)^2 =  1\n",
      "rk (B - 4E)^3 =  0\n",
      "\n",
      "rk (C - 4E)^1 =  2\n",
      "rk (C - 4E)^2 =  0\n",
      "\n"
     ]
    }
   ],
   "source": [
    "E = Matrix.identity(4)\n",
    "\n",
    "print('rk (A - 4E)^1 = ', (A - 4 * E).rank())\n",
    "print('rk (A - 4E)^2 = ', (A - 4 * E).pow(2).rank())\n",
    "print('rk (A - 4E)^3 = ', (A - 4 * E).pow(3).rank())\n",
    "print()\n",
    "\n",
    "print('rk (B - 4E)^1 = ', (B - 4 * E).rank())\n",
    "print('rk (B - 4E)^2 = ', (B - 4 * E).pow(2).rank())\n",
    "print('rk (B - 4E)^3 = ', (B - 4 * E).pow(3).rank())\n",
    "print()\n",
    "\n",
    "print('rk (C - 4E)^1 = ', (C - 4 * E).rank())\n",
    "print('rk (C - 4E)^2 = ', (C - 4 * E).pow(2).rank())\n",
    "print()"
   ]
  },
  {
   "attachments": {},
   "cell_type": "markdown",
   "metadata": {},
   "source": [
    "Получили, что $\\mathrm{rk} (C - 4E)^2 \\neq \\mathrm{rk} (A - 4E)^2 = \\mathrm{rk} (B - 4E)^2$. При этом для $A$ и $B$ ранги совпадают, в том числе для четвертой степени, так как начиная уже с третьей степени мы получаем нулевые матрицы (очевидно, т.к. ранг 0).\n",
    "\n",
    "Таким образом $A$ и $B$ задают одинаковый оператор в разных базисах."
   ]
  },
  {
   "attachments": {},
   "cell_type": "markdown",
   "metadata": {},
   "source": [
    "# Задача 2"
   ]
  },
  {
   "cell_type": "code",
   "execution_count": 5,
   "metadata": {},
   "outputs": [],
   "source": [
    "A = Matrix([\n",
    "    [1, 7, 3, 0, 0, 0],\n",
    "    [0, 5, 2, 0, 0, 0],\n",
    "    [0, -4, -1, 0, 0, 0],\n",
    "    [3, 6, 5, -1, -1, 0],\n",
    "    [-6, -3, -7, 4, 3, 0],\n",
    "    [7, -2, 4, -4, -1, 3]\n",
    "])"
   ]
  },
  {
   "attachments": {},
   "cell_type": "markdown",
   "metadata": {},
   "source": [
    "Чтобы найти ЖНФ матрицы надо рассмотреть её собственные значения а также воспользоваться формулой для поиска количества клеток с заданным собственным значением и размером."
   ]
  },
  {
   "attachments": {},
   "cell_type": "markdown",
   "metadata": {},
   "source": [
    "Рассмотрим характеристический многочлен $A$:\n",
    "\n",
    "$\\chi(A) = \\lambda^6-10\\lambda^5+39\\lambda^4-76\\lambda^3+79\\lambda^2-42\\lambda+9 = (\\lambda - 1)^4 (\\lambda - 3)^2$\n",
    "\n",
    "Получили два собственных значения: 1 со степенью 4, и 3 со степенью 2."
   ]
  },
  {
   "attachments": {},
   "cell_type": "markdown",
   "metadata": {},
   "source": [
    "Теперь рассмотрим размерности ядер матриц вида $(A - \\lambda E)^n$. При этом воспользуемся тем, что $\\dim \\ker X = n - \\mathrm{rk} X$, где $X \\in M_n$"
   ]
  },
  {
   "cell_type": "code",
   "execution_count": 6,
   "metadata": {},
   "outputs": [
    {
     "name": "stdout",
     "output_type": "stream",
     "text": [
      "dim ker (A - E)^1 =  2\n",
      "dim ker (A - E)^2 =  4\n",
      "\n",
      "dim ker (A - 3E)^1 =  1\n",
      "dim ker (A - 3E)^2 =  2\n",
      "\n"
     ]
    }
   ],
   "source": [
    "E = Matrix.identity(6)\n",
    "\n",
    "print('dim ker (A - E)^1 = ', 6 - (A - E).rank())\n",
    "print('dim ker (A - E)^2 = ', 6 - (A - E).pow(2).rank())\n",
    "print()\n",
    "\n",
    "print('dim ker (A - 3E)^1 = ', 6 - (A - 3*E).rank())\n",
    "print('dim ker (A - 3E)^2 = ', 6 - (A - 3*E).pow(2).rank())\n",
    "print()"
   ]
  },
  {
   "attachments": {},
   "cell_type": "markdown",
   "metadata": {},
   "source": [
    "Мы знаем, что количество клеток размера $n$ со значением $\\lambda$ равно $2 \\dim \\ker (A - \\lambda E)^n - \\dim \\ker (A - \\lambda E)^{n - 1} - \\dim \\ker (A - \\lambda E)^{n + 1}$\n",
    "\n",
    "Получили что в ЖНФ будет одна клетка размера 2 со значением 3, и две клетки размера 2 со значением 1. То есть ЖНФ будет выглядеть следующим образом:"
   ]
  },
  {
   "cell_type": "code",
   "execution_count": 7,
   "metadata": {},
   "outputs": [
    {
     "data": {
      "text/latex": [
       "\\begin{bmatrix}\n",
       "1 & 1 & 0 & 0 & 0 & 0 \\\\\n",
       "0 & 1 & 0 & 0 & 0 & 0 \\\\\n",
       "0 & 0 & 1 & 1 & 0 & 0 \\\\\n",
       "0 & 0 & 0 & 1 & 0 & 0 \\\\\n",
       "0 & 0 & 0 & 0 & 3 & 1 \\\\\n",
       "0 & 0 & 0 & 0 & 0 & 3 \\\\\n",
       "\n",
       "\\end{bmatrix}"
      ],
      "text/plain": [
       "<matrix.Matrix at 0x7fbefc1a5350>"
      ]
     },
     "metadata": {},
     "output_type": "display_data"
    }
   ],
   "source": [
    "blocks = [\n",
    "    (2, 1),\n",
    "    (2, 1),\n",
    "    (2, 3)\n",
    "]\n",
    "display(Matrix.jordan_form(blocks))"
   ]
  },
  {
   "attachments": {},
   "cell_type": "markdown",
   "metadata": {},
   "source": [
    "Теперь, чтобы найти Жорданов базис нужно подобрать три вектора $x_1, x_2, x_3 \\in \\mathbb{R}^6$, такие, что $x_1, x_2 \\in \\ker (A - E)^2 \\setminus \\ker (A - E)$, $x_3 \\in \\ker (A - 3E)^2 \\setminus \\ker (A - 3E)$ и $x_1$ и $x_2$ линейно независимы. Тогда Жорданов базис будет иметь следующий вид:\n",
    "\n",
    "$$\n",
    "v_2 = x_1 \\\\\n",
    "v_1 = (A - E) v_2 \\\\\n",
    "v_4 = x_2 \\\\\n",
    "v_3 = (A - E) v_4 \\\\\n",
    "v_6 = x_3 \\\\\n",
    "v_5 = (A - 3E) v_6\\\\\n",
    "$$"
   ]
  },
  {
   "attachments": {},
   "cell_type": "markdown",
   "metadata": {},
   "source": [
    "Найдём базис $\\ker (A - E)^2$. Будем выбирать $x_1$ и $x_2$ из него.\n",
    "\n",
    "Также домножим каждый вектор из базиса на $A - E$, чтобы проверить, что он лежит в $\\ker (A - E)^2 \\setminus \\ker (A - E)$ (он должен быть ненулевым)."
   ]
  },
  {
   "cell_type": "code",
   "execution_count": 8,
   "metadata": {},
   "outputs": [
    {
     "name": "stdout",
     "output_type": "stream",
     "text": [
      "Матрица составленная из столбцов -- базисов ker (A - E)^2:\n"
     ]
    },
    {
     "data": {
      "text/latex": [
       "\\begin{bmatrix}\n",
       "-\\frac{1}{2} & \\frac{1}{2} & 0 & -\\frac{1}{2} \\\\\n",
       "-\\frac{1}{2} & 0 & 0 & 0 \\\\\n",
       "1 & 0 & 0 & 0 \\\\\n",
       "0 & 1 & 0 & 0 \\\\\n",
       "0 & 0 & 1 & 0 \\\\\n",
       "0 & 0 & 0 & 1 \\\\\n",
       "\n",
       "\\end{bmatrix}"
      ],
      "text/plain": [
       "<matrix.Matrix at 0x7fbefc1a6210>"
      ]
     },
     "metadata": {},
     "output_type": "display_data"
    },
    {
     "name": "stdout",
     "output_type": "stream",
     "text": [
      "Матрица составленная из столбцов -- базисов ker (A - E)^2 домноженных на A - E:\n"
     ]
    },
    {
     "data": {
      "text/latex": [
       "\\begin{bmatrix}\n",
       "-\\frac{1}{2} & 0 & 0 & 0 \\\\\n",
       "0 & 0 & 0 & 0 \\\\\n",
       "0 & 0 & 0 & 0 \\\\\n",
       "\\frac{1}{2} & -\\frac{1}{2} & -1 & -\\frac{3}{2} \\\\\n",
       "-\\frac{5}{2} & 1 & 2 & 3 \\\\\n",
       "\\frac{3}{2} & -\\frac{1}{2} & -1 & -\\frac{3}{2} \\\\\n",
       "\n",
       "\\end{bmatrix}"
      ],
      "text/plain": [
       "<matrix.Matrix at 0x7fbefc1a6990>"
      ]
     },
     "metadata": {},
     "output_type": "display_data"
    }
   ],
   "source": [
    "kernel = (A - E).pow(2).find_kernel()\n",
    "B = Matrix.from_columns(kernel)\n",
    "print('Матрица составленная из столбцов -- базисов ker (A - E)^2:')\n",
    "display(B)\n",
    "print('Матрица составленная из столбцов -- базисов ker (A - E)^2 домноженных на A - E:')\n",
    "display((A - E) @ B)"
   ]
  },
  {
   "attachments": {},
   "cell_type": "markdown",
   "metadata": {},
   "source": [
    "Попробуем взять первые два базиса в качестве $x_1$ и $x_2$."
   ]
  },
  {
   "cell_type": "code",
   "execution_count": 9,
   "metadata": {},
   "outputs": [
    {
     "name": "stdout",
     "output_type": "stream",
     "text": [
      "(v_1, v_2, v_3, v_4):\n"
     ]
    },
    {
     "data": {
      "text/latex": [
       "\\begin{bmatrix}\n",
       "-\\frac{1}{2} & -\\frac{1}{2} & 0 & \\frac{1}{2} \\\\\n",
       "0 & -\\frac{1}{2} & 0 & 0 \\\\\n",
       "0 & 1 & 0 & 0 \\\\\n",
       "\\frac{1}{2} & 0 & -\\frac{1}{2} & 1 \\\\\n",
       "-\\frac{5}{2} & 0 & 1 & 0 \\\\\n",
       "\\frac{3}{2} & 0 & -\\frac{1}{2} & 0 \\\\\n",
       "\n",
       "\\end{bmatrix}"
      ],
      "text/plain": [
       "<matrix.Matrix at 0x7fbefc1a78d0>"
      ]
     },
     "metadata": {},
     "output_type": "display_data"
    },
    {
     "name": "stdout",
     "output_type": "stream",
     "text": [
      "dim <v_1, v_2, v_3, v_4> = 4\n"
     ]
    }
   ],
   "source": [
    "x_1, x_2 = kernel[:2]\n",
    "v_2, v_4 = x_1, x_2\n",
    "v_1, v_3 = ((A - E) @ Matrix.from_columns([v_2, v_4])).get_columns()\n",
    "C = Matrix.from_columns([v_1, v_2, v_3, v_4])\n",
    "print('(v_1, v_2, v_3, v_4):')\n",
    "display(C)\n",
    "print('dim <v_1, v_2, v_3, v_4> =', C.rank())"
   ]
  },
  {
   "attachments": {},
   "cell_type": "markdown",
   "metadata": {},
   "source": [
    "Отлично, все 4 вектора получились линейно независимыми."
   ]
  },
  {
   "attachments": {},
   "cell_type": "markdown",
   "metadata": {},
   "source": [
    "Найдём базис $\\ker (A - 3E)^2$. Будем выбирать $x_3$ из него.\n",
    "\n",
    "Также домножим каждый вектор из базиса на $A - 3E$, чтобы проверить, что он лежит в $\\ker (A - 3E)^2 \\setminus \\ker (A - 3E)$ (он должен быть ненулевым)."
   ]
  },
  {
   "cell_type": "code",
   "execution_count": 10,
   "metadata": {},
   "outputs": [
    {
     "name": "stdout",
     "output_type": "stream",
     "text": [
      "Матрица составленная из столбцов -- базисов ker (A - 3E)^2:\n"
     ]
    },
    {
     "data": {
      "text/latex": [
       "\\begin{bmatrix}\n",
       "-2 & 0 \\\\\n",
       "-1 & 0 \\\\\n",
       "1 & 0 \\\\\n",
       "-2 & 0 \\\\\n",
       "1 & 0 \\\\\n",
       "0 & 1 \\\\\n",
       "\n",
       "\\end{bmatrix}"
      ],
      "text/plain": [
       "<matrix.Matrix at 0x7fbefc1b8dd0>"
      ]
     },
     "metadata": {},
     "output_type": "display_data"
    },
    {
     "name": "stdout",
     "output_type": "stream",
     "text": [
      "Матрица составленная из столбцов -- базисов ker (A - 3E)^2 домноженных на A - E:\n"
     ]
    },
    {
     "data": {
      "text/latex": [
       "\\begin{bmatrix}\n",
       "0 & 0 \\\\\n",
       "0 & 0 \\\\\n",
       "0 & 0 \\\\\n",
       "0 & 0 \\\\\n",
       "0 & 0 \\\\\n",
       "-1 & 0 \\\\\n",
       "\n",
       "\\end{bmatrix}"
      ],
      "text/plain": [
       "<matrix.Matrix at 0x7fbefc1a62d0>"
      ]
     },
     "metadata": {},
     "output_type": "display_data"
    }
   ],
   "source": [
    "kernel = (A - 3 * E).pow(2).find_kernel()\n",
    "B = Matrix.from_columns(kernel)\n",
    "print('Матрица составленная из столбцов -- базисов ker (A - 3E)^2:')\n",
    "display(B)\n",
    "print('Матрица составленная из столбцов -- базисов ker (A - 3E)^2 домноженных на A - E:')\n",
    "display((A - 3 * E) @ B)"
   ]
  },
  {
   "attachments": {},
   "cell_type": "markdown",
   "metadata": {},
   "source": [
    "Подходит только первый базис, возьмём его в качестве $x_3$:"
   ]
  },
  {
   "cell_type": "code",
   "execution_count": 11,
   "metadata": {},
   "outputs": [
    {
     "name": "stdout",
     "output_type": "stream",
     "text": [
      "(v_1, v_2, v_3, v_4, v_5, v_6):\n"
     ]
    },
    {
     "data": {
      "text/latex": [
       "\\begin{bmatrix}\n",
       "-\\frac{1}{2} & -\\frac{1}{2} & 0 & \\frac{1}{2} & 0 & -2 \\\\\n",
       "0 & -\\frac{1}{2} & 0 & 0 & 0 & -1 \\\\\n",
       "0 & 1 & 0 & 0 & 0 & 1 \\\\\n",
       "\\frac{1}{2} & 0 & -\\frac{1}{2} & 1 & 0 & -2 \\\\\n",
       "-\\frac{5}{2} & 0 & 1 & 0 & 0 & 1 \\\\\n",
       "\\frac{3}{2} & 0 & -\\frac{1}{2} & 0 & -1 & 0 \\\\\n",
       "\n",
       "\\end{bmatrix}"
      ],
      "text/plain": [
       "<matrix.Matrix at 0x7fbefc1b8e10>"
      ]
     },
     "metadata": {},
     "output_type": "display_data"
    },
    {
     "name": "stdout",
     "output_type": "stream",
     "text": [
      "dim <v_1, v_2, v_3, v_4, v_5, v_6> = 6\n"
     ]
    }
   ],
   "source": [
    "x_3 = kernel[0]\n",
    "v_6 = x_3\n",
    "v_5 = ((A - 3 * E) @ Matrix.from_column(v_6)).get_columns()[0]\n",
    "C = Matrix.from_columns([v_1, v_2, v_3, v_4, v_5, v_6])\n",
    "print('(v_1, v_2, v_3, v_4, v_5, v_6):')\n",
    "display(C)\n",
    "print('dim <v_1, v_2, v_3, v_4, v_5, v_6> =', C.rank())"
   ]
  },
  {
   "attachments": {},
   "cell_type": "markdown",
   "metadata": {},
   "source": [
    "Таким образом получили Жорданов базис:"
   ]
  },
  {
   "cell_type": "code",
   "execution_count": 12,
   "metadata": {},
   "outputs": [
    {
     "data": {
      "text/latex": [
       "\\begin{bmatrix}\n",
       "-1 & -1 & 0 & 1 & 0 & -4 \\\\\n",
       "0 & -1 & 0 & 0 & 0 & -2 \\\\\n",
       "0 & 2 & 0 & 0 & 0 & 2 \\\\\n",
       "1 & 0 & -1 & 2 & 0 & -4 \\\\\n",
       "-5 & 0 & 2 & 0 & 0 & 2 \\\\\n",
       "3 & 0 & -1 & 0 & -2 & 0 \\\\\n",
       "\n",
       "\\end{bmatrix}"
      ],
      "text/plain": [
       "<matrix.Matrix at 0x7fbefc1baa50>"
      ]
     },
     "metadata": {},
     "output_type": "display_data"
    }
   ],
   "source": [
    "display(C * 2)"
   ]
  },
  {
   "attachments": {},
   "cell_type": "markdown",
   "metadata": {},
   "source": [
    "Можем даже проверить, что при смене базиса $A$ с использованием матрицы, составленной из столбцов -- векторов Жорданового базиса, расставленных в правильном порядке, даст ЖНФ:"
   ]
  },
  {
   "cell_type": "code",
   "execution_count": 13,
   "metadata": {},
   "outputs": [
    {
     "data": {
      "text/latex": [
       "\\begin{bmatrix}\n",
       "1 & 1 & 0 & 0 & 0 & 0 \\\\\n",
       "0 & 1 & 0 & 0 & 0 & 0 \\\\\n",
       "0 & 0 & 1 & 1 & 0 & 0 \\\\\n",
       "0 & 0 & 0 & 1 & 0 & 0 \\\\\n",
       "0 & 0 & 0 & 0 & 3 & 1 \\\\\n",
       "0 & 0 & 0 & 0 & 0 & 3 \\\\\n",
       "\n",
       "\\end{bmatrix}"
      ],
      "text/plain": [
       "<matrix.Matrix at 0x7fbefc1bb050>"
      ]
     },
     "metadata": {},
     "output_type": "display_data"
    }
   ],
   "source": [
    "display(C.find_inverse() @ A @ C)"
   ]
  },
  {
   "attachments": {},
   "cell_type": "markdown",
   "metadata": {},
   "source": [
    "# Задача 3"
   ]
  },
  {
   "cell_type": "code",
   "execution_count": 14,
   "metadata": {},
   "outputs": [],
   "source": [
    "A = Matrix([\n",
    "    [5, 7, 1],\n",
    "    [-5, -7, -1],\n",
    "    [-2, -2, 1]\n",
    "])\n",
    "\n",
    "g_1 = [1, 1, 2]\n",
    "g_2 = [1, 2, 3]\n",
    "g_3 = [-1, 1, 1]\n",
    "\n",
    "B = Matrix([\n",
    "    [-3, -6, 6],\n",
    "    [3, 6, -6],\n",
    "    [2, 3, -2]\n",
    "])\n",
    "\n",
    "f_1 = [1, -1, -2]\n",
    "f_2 = [1, -2, -3]\n",
    "f_3 = [1, 1, 1]"
   ]
  },
  {
   "attachments": {},
   "cell_type": "markdown",
   "metadata": {},
   "source": [
    "Приведем $\\varphi$ и $\\psi$ к стандартному базису.\n",
    "\n",
    "Пусть $C = (g_1, g_2, g_3)$, $D = (f_1, f_2, f_3)$.\n",
    "\n",
    "Тогда матрица $\\varphi$ в стандартном базисе равна $C A C^{-1}$, а матрица $\\psi$ в стандртном базисе равна $D B D^{-1}$.\n",
    "\n",
    "Здесь мы воспользовались тем что $A = C^{-1} A' C$, где $A'$ -- матрица $\\varphi$ в стандартном базисе. Аналогично для $\\psi$ и $B'$."
   ]
  },
  {
   "cell_type": "code",
   "execution_count": 15,
   "metadata": {},
   "outputs": [
    {
     "name": "stdout",
     "output_type": "stream",
     "text": [
      "A' = \n"
     ]
    },
    {
     "data": {
      "text/latex": [
       "\\begin{bmatrix}\n",
       "1 & -1 & 1 \\\\\n",
       "-2 & 1 & -3 \\\\\n",
       "-2 & 1 & -3 \\\\\n",
       "\n",
       "\\end{bmatrix}"
      ],
      "text/plain": [
       "<matrix.Matrix at 0x7fbefc1ba610>"
      ]
     },
     "metadata": {},
     "output_type": "display_data"
    },
    {
     "name": "stdout",
     "output_type": "stream",
     "text": [
      "B' = \n"
     ]
    },
    {
     "data": {
      "text/latex": [
       "\\begin{bmatrix}\n",
       "-1 & 1 & -2 \\\\\n",
       "2 & 1 & 1 \\\\\n",
       "2 & 1 & 1 \\\\\n",
       "\n",
       "\\end{bmatrix}"
      ],
      "text/plain": [
       "<matrix.Matrix at 0x7fbefc1baf10>"
      ]
     },
     "metadata": {},
     "output_type": "display_data"
    }
   ],
   "source": [
    "C = Matrix.from_columns([g_1, g_2, g_3])\n",
    "A_std = C @ A @ C.find_inverse()\n",
    "D = Matrix.from_columns([f_1, f_2, f_3])\n",
    "B_std = D @ B @ D.find_inverse()\n",
    "print('A\\' = ')\n",
    "display(A_std)\n",
    "print('B\\' = ')\n",
    "display(B_std)"
   ]
  },
  {
   "attachments": {},
   "cell_type": "markdown",
   "metadata": {},
   "source": [
    "Найдём ответ на пункт а):"
   ]
  },
  {
   "cell_type": "code",
   "execution_count": 16,
   "metadata": {},
   "outputs": [
    {
     "data": {
      "text/latex": [
       "\\begin{bmatrix}\n",
       "-1 & 1 & -2 \\\\\n",
       "-2 & -4 & 2 \\\\\n",
       "-2 & -4 & 2 \\\\\n",
       "\n",
       "\\end{bmatrix}"
      ],
      "text/plain": [
       "<matrix.Matrix at 0x7fbefc1a6790>"
      ]
     },
     "metadata": {},
     "output_type": "display_data"
    }
   ],
   "source": [
    "F = A_std @ B_std\n",
    "display(F)"
   ]
  },
  {
   "attachments": {},
   "cell_type": "markdown",
   "metadata": {},
   "source": [
    "Дальше мы будем рассматривать как действуют операторы на вектора в стандартном базисе, поэтому нам пригодятся только $A'$ и $B'$.\n",
    "\n",
    "Также обозначим получившуюся матрицу композиции за $F$."
   ]
  },
  {
   "attachments": {},
   "cell_type": "markdown",
   "metadata": {},
   "source": [
    "Для решения пункта б) просто найдём базисы для обоих ядер и объединим их, набрав базис объедениния из векторов базисов ядер."
   ]
  },
  {
   "cell_type": "code",
   "execution_count": 17,
   "metadata": {},
   "outputs": [
    {
     "name": "stdout",
     "output_type": "stream",
     "text": [
      "ker A' : [[-2, -1, 1]]\n",
      "ker B' : [[-1, 1, 1]]\n"
     ]
    }
   ],
   "source": [
    "A_kernel = A_std.find_kernel()\n",
    "print('ker A\\' :', A_kernel)\n",
    "B_kernel = B_std.find_kernel()\n",
    "print('ker B\\' :', B_kernel)"
   ]
  },
  {
   "attachments": {},
   "cell_type": "markdown",
   "metadata": {},
   "source": [
    "Базисы ядер обоих операторов состоят только из одного вектора. Невооруженным взглядом видно, что они линейно независимы. Эти два вектора и будут являться базисом объединения."
   ]
  },
  {
   "cell_type": "code",
   "execution_count": 18,
   "metadata": {},
   "outputs": [
    {
     "name": "stdout",
     "output_type": "stream",
     "text": [
      "v_1 = [-2, -1, 1]\n",
      "v_2 = [-1, 1, 1]\n",
      "dim ker <v_1, v_2> = 2\n"
     ]
    }
   ],
   "source": [
    "print('v_1 =', A_kernel[0])\n",
    "print('v_2 =', B_kernel[0])\n",
    "print('dim ker <v_1, v_2> =', Matrix.from_columns(A_kernel + B_kernel).rank())"
   ]
  },
  {
   "attachments": {},
   "cell_type": "markdown",
   "metadata": {},
   "source": [
    "Решим пункт в). Образом оператора в базисе является линейная оболочка столбцов матрицы, задающей оператор в этом базисе. Рассмотрим базисы образов в стандартном базисе:"
   ]
  },
  {
   "cell_type": "code",
   "execution_count": 19,
   "metadata": {},
   "outputs": [
    {
     "name": "stdout",
     "output_type": "stream",
     "text": [
      "Базис столбцов A': [[1, -2, -2], [-1, 1, 1]]\n",
      "Базис столбцов B': [[-1, 2, 2], [1, 1, 1]]\n"
     ]
    }
   ],
   "source": [
    "A_basis = A_std.select_columns(A_std.find_column_basis())\n",
    "print('Базис столбцов A\\':', A_basis)\n",
    "B_basis = B_std.select_columns(B_std.find_column_basis())\n",
    "print('Базис столбцов B\\':', B_basis)"
   ]
  },
  {
   "attachments": {},
   "cell_type": "markdown",
   "metadata": {},
   "source": [
    "Теперь рассмотрим все параметры линейных комбинаций этих базисов, которые в сумме дают 0. Рассмотрим базис пространства этих параметром. Для этого сконкатенируем базисы в виде столбцов и посчитаем ФСР системы, которую задаёт эта конкатенация."
   ]
  },
  {
   "cell_type": "code",
   "execution_count": 20,
   "metadata": {},
   "outputs": [
    {
     "name": "stdout",
     "output_type": "stream",
     "text": [
      "ФСР конкатенации: [[1, 0, 1, 0], [2, 3, 0, 1]]\n"
     ]
    }
   ],
   "source": [
    "M = Matrix.from_columns(A_basis + B_basis)\n",
    "print('ФСР конкатенации:', M.find_kernel())"
   ]
  },
  {
   "attachments": {},
   "cell_type": "markdown",
   "metadata": {},
   "source": [
    "Получили, что образы двух операторов в стандартном базисе совпадают. Так что в качестве ответа можем вывести любой из базисов:"
   ]
  },
  {
   "cell_type": "code",
   "execution_count": 21,
   "metadata": {},
   "outputs": [
    {
     "name": "stdout",
     "output_type": "stream",
     "text": [
      "Ответ: [[-1, 2, 2], [1, 1, 1]]\n"
     ]
    }
   ],
   "source": [
    "print('Ответ:', B_basis)"
   ]
  },
  {
   "cell_type": "markdown",
   "metadata": {},
   "source": [
    "# Задача 5"
   ]
  },
  {
   "cell_type": "code",
   "execution_count": 22,
   "metadata": {},
   "outputs": [],
   "source": [
    "B = Matrix([\n",
    "    [0, 0, 5, 3],\n",
    "    [0, 0, 3, 2],\n",
    "    [5, 3, -3, -5],\n",
    "    [3, 2, -5, -4]\n",
    "])\n",
    "\n",
    "v = [5, -5, -1, 2]"
   ]
  },
  {
   "attachments": {},
   "cell_type": "markdown",
   "metadata": {},
   "source": [
    "Воспользуемся алгоритмом, аналогичным доказательству утверждения 170. В качестве изначального вектора возьмём $v$, будем поддерживать множество добавленных векторов. Каждый раз будем добавлять новый вектор, ортогональный всем уже добавленным. В конце проверим, что матрица билинейной формы в этом базисе действительно диагональная."
   ]
  },
  {
   "attachments": {},
   "cell_type": "markdown",
   "metadata": {},
   "source": [
    "Искать ортогональный всем добавленным вектор будем следующим образом: пусть $A$ матрица, в которой все добавленные вектора уложили строками. Тогда решение уравнения $A B x = 0$ как раз будет подходящим вектором."
   ]
  },
  {
   "cell_type": "code",
   "execution_count": 23,
   "metadata": {},
   "outputs": [
    {
     "name": "stdout",
     "output_type": "stream",
     "text": [
      "==========\n",
      "Шаг 1\n",
      "==========\n",
      "Добавленные вектора: [[5, -5, -1, 2]]\n",
      "Решаю уравнение ABx = 0, где A = \n"
     ]
    },
    {
     "data": {
      "text/latex": [
       "\\begin{bmatrix}\n",
       "5 & -5 & -1 & 2 \\\\\n",
       "\n",
       "\\end{bmatrix}"
      ],
      "text/plain": [
       "<matrix.Matrix at 0x7fbeff317990>"
      ]
     },
     "metadata": {},
     "output_type": "display_data"
    },
    {
     "name": "stdout",
     "output_type": "stream",
     "text": [
      "Нашёл решение:  [-2, 0, 0, 1]\n",
      "==========\n",
      "Шаг 2\n",
      "==========\n",
      "Добавленные вектора: [[5, -5, -1, 2], [-2, 0, 0, 1]]\n",
      "Решаю уравнение ABx = 0, где A = \n"
     ]
    },
    {
     "data": {
      "text/latex": [
       "\\begin{bmatrix}\n",
       "5 & -5 & -1 & 2 \\\\\n",
       "-2 & 0 & 0 & 1 \\\\\n",
       "\n",
       "\\end{bmatrix}"
      ],
      "text/plain": [
       "<matrix.Matrix at 0x7fbefc1e89d0>"
      ]
     },
     "metadata": {},
     "output_type": "display_data"
    },
    {
     "name": "stdout",
     "output_type": "stream",
     "text": [
      "Нашёл решение:  [14, -16, 0, 1]\n",
      "==========\n",
      "Шаг 3\n",
      "==========\n",
      "Добавленные вектора: [[5, -5, -1, 2], [-2, 0, 0, 1], [14, -16, 0, 1]]\n",
      "Решаю уравнение ABx = 0, где A = \n"
     ]
    },
    {
     "data": {
      "text/latex": [
       "\\begin{bmatrix}\n",
       "5 & -5 & -1 & 2 \\\\\n",
       "-2 & 0 & 0 & 1 \\\\\n",
       "14 & -16 & 0 & 1 \\\\\n",
       "\n",
       "\\end{bmatrix}"
      ],
      "text/plain": [
       "<matrix.Matrix at 0x7fbefc182650>"
      ]
     },
     "metadata": {},
     "output_type": "display_data"
    },
    {
     "name": "stdout",
     "output_type": "stream",
     "text": [
      "Нашёл решение:  [\\frac{7}{2}, -4, -\\frac{1}{2}, 1]\n",
      "==========\n",
      "Ответ\n",
      "==========\n",
      "Нашёл потенциальный ортогональный базис: [[5, -5, -1, 2], [-2, 0, 0, 1], [14, -16, 0, 1], [\\frac{7}{2}, -4, -\\frac{1}{2}, 1]]\n"
     ]
    }
   ],
   "source": [
    "added = [v]\n",
    "for i in range(3):\n",
    "    print('=' * 10)\n",
    "    print('Шаг', i + 1)\n",
    "    print('=' * 10)\n",
    "    print('Добавленные вектора:', added)\n",
    "    A = Matrix(added)\n",
    "    print('Решаю уравнение ABx = 0, где A = ')\n",
    "    display(A)\n",
    "    kernel = (A @ B).find_kernel()\n",
    "    while kernel:\n",
    "        solve = kernel.pop()\n",
    "        rank = Matrix.from_columns(added + [solve]).rank()\n",
    "        if rank == len(added) + 1:\n",
    "            break\n",
    "    else:\n",
    "        print('Решений не нашлось, завершаюсь')\n",
    "        break\n",
    "    print('Нашёл решение: ', solve)\n",
    "    added.append(solve)\n",
    "else:\n",
    "    print('=' * 10)\n",
    "    print('Ответ')\n",
    "    print('=' * 10)\n",
    "    print('Нашёл потенциальный ортогональный базис:', added)"
   ]
  },
  {
   "attachments": {},
   "cell_type": "markdown",
   "metadata": {},
   "source": [
    "Давайте проверим, что билинейная форма $\\beta$ в найденном базисе действительно задаётся диагональной матрицей.\n",
    "\n",
    "Воспользуемся формулой $B' = C^t B C$, где $B'$ -- матрица, задающая $\\beta$ в новом базисе, а $C$ -- матрица перехода в этот базис."
   ]
  },
  {
   "cell_type": "code",
   "execution_count": 24,
   "metadata": {},
   "outputs": [
    {
     "data": {
      "text/latex": [
       "\\begin{bmatrix}\n",
       "1 & 0 & 0 & 0 \\\\\n",
       "0 & -16 & 0 & 0 \\\\\n",
       "0 & 0 & 16 & 0 \\\\\n",
       "0 & 0 & 0 & -\\frac{1}{4} \\\\\n",
       "\n",
       "\\end{bmatrix}"
      ],
      "text/plain": [
       "<matrix.Matrix at 0x7fbefc1e9b50>"
      ]
     },
     "execution_count": 24,
     "metadata": {},
     "output_type": "execute_result"
    }
   ],
   "source": [
    "C = Matrix.from_columns(added)\n",
    "C.transpose() @ B @ C"
   ]
  },
  {
   "attachments": {},
   "cell_type": "markdown",
   "metadata": {},
   "source": [
    "Отлично! Таким образом получили, что заданный вектор можно дополнить до базиса, в котором билинейная форма будет задаваться диагональной матрицей, и этот базис выглядит так:"
   ]
  },
  {
   "cell_type": "code",
   "execution_count": 25,
   "metadata": {},
   "outputs": [
    {
     "name": "stdout",
     "output_type": "stream",
     "text": [
      "[[5, -5, -1, 2], [-2, 0, 0, 1], [14, -16, 0, 1], [\\frac{7}{2}, -4, -\\frac{1}{2}, 1]]\n"
     ]
    }
   ],
   "source": [
    "print(added)"
   ]
  }
 ],
 "metadata": {
  "kernelspec": {
   "display_name": "Python 3.10.7 64-bit",
   "language": "python",
   "name": "python3"
  },
  "language_info": {
   "codemirror_mode": {
    "name": "ipython",
    "version": 3
   },
   "file_extension": ".py",
   "mimetype": "text/x-python",
   "name": "python",
   "nbconvert_exporter": "python",
   "pygments_lexer": "ipython3",
   "version": "3.10.9"
  },
  "orig_nbformat": 4,
  "vscode": {
   "interpreter": {
    "hash": "767d51c1340bd893661ea55ea3124f6de3c7a262a8b4abca0554b478b1e2ff90"
   }
  }
 },
 "nbformat": 4,
 "nbformat_minor": 2
}
