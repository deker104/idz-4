{
 "cells": [
  {
   "attachments": {},
   "cell_type": "markdown",
   "metadata": {},
   "source": [
    "# Индивидуальное домашнее задание по линейной алгебре 3\n",
    "#### Шиндов Даниил Артёмович, 1 курс, БПМИ221\n",
    "\n",
    "Читайте описание в `README.md`"
   ]
  },
  {
   "cell_type": "code",
   "execution_count": 1,
   "metadata": {},
   "outputs": [],
   "source": [
    "import os\n",
    "\n",
    "try:\n",
    "    import google.colab\n",
    "    IS_COLAB = True\n",
    "except ImportError:\n",
    "    IS_COLAB = False\n",
    "\n",
    "if IS_COLAB:\n",
    "    !git clone https://github.com/deker104/idz-3\n",
    "    os.chdir('/content/idz-3')\n",
    "    !git pull"
   ]
  },
  {
   "cell_type": "code",
   "execution_count": 2,
   "metadata": {},
   "outputs": [],
   "source": [
    "from matrix import Matrix\n",
    "from polynomial import Polynomial\n",
    "from fraction import Fraction"
   ]
  },
  {
   "attachments": {},
   "cell_type": "markdown",
   "metadata": {},
   "source": [
    "# Задача 1"
   ]
  },
  {
   "cell_type": "code",
   "execution_count": 3,
   "metadata": {},
   "outputs": [],
   "source": [
    "A = Matrix([\n",
    "    [-2, 4, 1, -5, -3, 7],\n",
    "    [1, -2, -1, 2, 1, -6],\n",
    "    [-1, 2, 1, -2, -1, 6]\n",
    "])\n",
    "\n",
    "v_1 = [9, 3, -5, -2, 2, 1]\n",
    "v_2 = [2, -1, -5, -3, 3, 1]"
   ]
  },
  {
   "cell_type": "code",
   "execution_count": 4,
   "metadata": {},
   "outputs": [
    {
     "data": {
      "text/latex": [
       "\\begin{bmatrix}\n",
       "0 \\\\\n",
       "0 \\\\\n",
       "0 \\\\\n",
       "\n",
       "\\end{bmatrix}"
      ],
      "text/plain": [
       "<matrix.Matrix at 0x7f227186f8b0>"
      ]
     },
     "metadata": {},
     "output_type": "display_data"
    },
    {
     "data": {
      "text/latex": [
       "\\begin{bmatrix}\n",
       "0 \\\\\n",
       "0 \\\\\n",
       "0 \\\\\n",
       "\n",
       "\\end{bmatrix}"
      ],
      "text/plain": [
       "<matrix.Matrix at 0x7f227186d6c0>"
      ]
     },
     "metadata": {},
     "output_type": "display_data"
    }
   ],
   "source": [
    "display(A @ Matrix.from_column(v_1))\n",
    "display(A @ Matrix.from_column(v_2))"
   ]
  },
  {
   "attachments": {},
   "cell_type": "markdown",
   "metadata": {},
   "source": [
    "Векторы действительно являются решениями системы. Давайте теперь найдём ФСР. "
   ]
  },
  {
   "cell_type": "code",
   "execution_count": 5,
   "metadata": {},
   "outputs": [
    {
     "data": {
      "text/latex": [
       "\\begin{bmatrix}\n",
       "1 & -2 & 0 & 3 & 2 & -1 \\\\\n",
       "0 & 0 & 1 & 1 & 1 & 5 \\\\\n",
       "0 & 0 & 0 & 0 & 0 & 0 \\\\\n",
       "\n",
       "\\end{bmatrix}"
      ],
      "text/plain": [
       "<matrix.Matrix at 0x7f227186df90>"
      ]
     },
     "execution_count": 5,
     "metadata": {},
     "output_type": "execute_result"
    }
   ],
   "source": [
    "B = A.make_perfect()\n",
    "B"
   ]
  },
  {
   "attachments": {},
   "cell_type": "markdown",
   "metadata": {},
   "source": [
    "1 и 3 -- главные переменные, а 2, 4, 5 и 6 -- свободные. Значит ФСР состоит из 4 векторов. Найдём их. Сначала построим матрицу, с помощью которой мы сможем получить решение системы в зависимости от значения свободных переменных."
   ]
  },
  {
   "cell_type": "code",
   "execution_count": 6,
   "metadata": {},
   "outputs": [
    {
     "data": {
      "text/latex": [
       "\\begin{bmatrix}\n",
       "0 & 0 & 0 & 0 \\\\\n",
       "0 & 0 & 0 & 0 \\\\\n",
       "0 & 0 & 0 & 0 \\\\\n",
       "\n",
       "\\end{bmatrix}"
      ],
      "text/plain": [
       "<matrix.Matrix at 0x7f227186f940>"
      ]
     },
     "metadata": {},
     "output_type": "display_data"
    }
   ],
   "source": [
    "C = Matrix([\n",
    "    [2, -3, -2, 1],\n",
    "    [1, 0, 0, 0],\n",
    "    [0, -1, -1, -5],\n",
    "    [0, 1, 0, 0],\n",
    "    [0, 0, 1, 0],\n",
    "    [0, 0, 0, 1]\n",
    "])\n",
    "\n",
    "display(A @ C)"
   ]
  },
  {
   "attachments": {},
   "cell_type": "markdown",
   "metadata": {},
   "source": [
    "Столбцы этой матрицы как раз и являются ФСР. Теперь посмотрим сможем ли мы дополнить $v_1$ и $v_2$ векторами из ФСР, используя стандартный алгоритм, ищущий базис линейной оболочки векторов."
   ]
  },
  {
   "cell_type": "code",
   "execution_count": 7,
   "metadata": {},
   "outputs": [
    {
     "data": {
      "text/latex": [
       "\\begin{bmatrix}\n",
       "9 & 2 & 2 & -3 & -2 & 1 \\\\\n",
       "3 & -1 & 1 & 0 & 0 & 0 \\\\\n",
       "-5 & -5 & 0 & -1 & -1 & -5 \\\\\n",
       "-2 & -3 & 0 & 1 & 0 & 0 \\\\\n",
       "2 & 3 & 0 & 0 & 1 & 0 \\\\\n",
       "1 & 1 & 0 & 0 & 0 & 1 \\\\\n",
       "\n",
       "\\end{bmatrix}"
      ],
      "text/plain": [
       "<matrix.Matrix at 0x7f227186cbe0>"
      ]
     },
     "execution_count": 7,
     "metadata": {},
     "output_type": "execute_result"
    }
   ],
   "source": [
    "D = Matrix.from_columns([v_1, v_2] + C.get_columns())\n",
    "D"
   ]
  },
  {
   "cell_type": "code",
   "execution_count": 8,
   "metadata": {},
   "outputs": [
    {
     "data": {
      "text/latex": [
       "\\begin{bmatrix}\n",
       "1 & 0 & 0 & 0 & -1 & 3 \\\\\n",
       "0 & 1 & 0 & 0 & 1 & -2 \\\\\n",
       "0 & 0 & 1 & 0 & 4 & -11 \\\\\n",
       "0 & 0 & 0 & 1 & 1 & 0 \\\\\n",
       "0 & 0 & 0 & 0 & 0 & 0 \\\\\n",
       "0 & 0 & 0 & 0 & 0 & 0 \\\\\n",
       "\n",
       "\\end{bmatrix}"
      ],
      "text/plain": [
       "<matrix.Matrix at 0x7f227186c790>"
      ]
     },
     "execution_count": 8,
     "metadata": {},
     "output_type": "execute_result"
    }
   ],
   "source": [
    "E = D.copy().make_perfect()\n",
    "E"
   ]
  },
  {
   "attachments": {},
   "cell_type": "markdown",
   "metadata": {},
   "source": [
    "У нас получилось. Алгоритм добавил в базис оболочки данных шести векторов v_1 и v_2, а также два первых вектора из ФСР. Вот они слева направо:"
   ]
  },
  {
   "cell_type": "code",
   "execution_count": 9,
   "metadata": {},
   "outputs": [
    {
     "data": {
      "text/plain": [
       "[[9, 3, -5, -2, 2, 1],\n",
       " [2, -1, -5, -3, 3, 1],\n",
       " [2, 1, 0, 0, 0, 0],\n",
       " [-3, 0, -1, 1, 0, 0]]"
      ]
     },
     "execution_count": 9,
     "metadata": {},
     "output_type": "execute_result"
    }
   ],
   "source": [
    "D.get_columns()[:4]"
   ]
  },
  {
   "attachments": {},
   "cell_type": "markdown",
   "metadata": {},
   "source": [
    "# Задача 2\n",
    "\n",
    "$\\mathrm{Im} \\phi$ -- это линейная оболочка векторов. $\\mathrm{ker} \\phi$ задаётся уравнением $Av = 0$. Поиск пересечения и суммы этих двух пространств выполняется стандартными алгоритмами.\n",
    "\n",
    "В случае суммы проще всего просто найти ФСР системы, объединить линейные оболочки и найти базис этого объединения."
   ]
  },
  {
   "cell_type": "code",
   "execution_count": 10,
   "metadata": {},
   "outputs": [
    {
     "data": {
      "text/latex": [
       "\\begin{bmatrix}\n",
       "1 & 0 & -1 & 0 \\\\\n",
       "0 & 1 & \\frac{2}{7} & \\frac{5}{7} \\\\\n",
       "0 & 0 & 0 & 0 \\\\\n",
       "0 & 0 & 0 & 0 \\\\\n",
       "\n",
       "\\end{bmatrix}"
      ],
      "text/plain": [
       "<matrix.Matrix at 0x7f227186ce20>"
      ]
     },
     "execution_count": 10,
     "metadata": {},
     "output_type": "execute_result"
    }
   ],
   "source": [
    "A = Matrix([\n",
    "    [17, 7, -15, 5],\n",
    "    [-1, 14, 5, 10],\n",
    "    [17, 7, -15, 5],\n",
    "    [-9, -14, 5, -10]\n",
    "])\n",
    "B = A.copy().make_perfect()\n",
    "B"
   ]
  },
  {
   "attachments": {},
   "cell_type": "markdown",
   "metadata": {},
   "source": [
    "Получили две главные и две свободные переменные. Кстати, мы сразу поняли, что первые два столбца являются базисом всей линейной оболочки столбцов.\n",
    "\n",
    "Опять получим матрицу, образом которой (если бы она была линейным отображением) является множество решений уравнения."
   ]
  },
  {
   "cell_type": "code",
   "execution_count": 11,
   "metadata": {},
   "outputs": [
    {
     "data": {
      "text/latex": [
       "\\begin{bmatrix}\n",
       "7 & 0 \\\\\n",
       "-2 & -5 \\\\\n",
       "7 & 0 \\\\\n",
       "0 & 7 \\\\\n",
       "\n",
       "\\end{bmatrix}"
      ],
      "text/plain": [
       "<matrix.Matrix at 0x7f227186e140>"
      ]
     },
     "metadata": {},
     "output_type": "display_data"
    },
    {
     "data": {
      "text/latex": [
       "\\begin{bmatrix}\n",
       "0 & 0 \\\\\n",
       "0 & 0 \\\\\n",
       "0 & 0 \\\\\n",
       "0 & 0 \\\\\n",
       "\n",
       "\\end{bmatrix}"
      ],
      "text/plain": [
       "<matrix.Matrix at 0x7f227186c250>"
      ]
     },
     "execution_count": 11,
     "metadata": {},
     "output_type": "execute_result"
    }
   ],
   "source": [
    "C = Matrix([\n",
    "    [7, 0],\n",
    "    [-2, -5],\n",
    "    [7, 0],\n",
    "    [0, 7]\n",
    "])\n",
    "display(C)\n",
    "A @ C"
   ]
  },
  {
   "attachments": {},
   "cell_type": "markdown",
   "metadata": {},
   "source": [
    "Теперь объединим линейные оболочки и выделим базис."
   ]
  },
  {
   "cell_type": "code",
   "execution_count": 12,
   "metadata": {},
   "outputs": [
    {
     "data": {
      "text/latex": [
       "\\begin{bmatrix}\n",
       "17 & 7 & 7 & 0 \\\\\n",
       "-1 & 14 & -2 & -5 \\\\\n",
       "17 & 7 & 7 & 0 \\\\\n",
       "-9 & -14 & 0 & 7 \\\\\n",
       "\n",
       "\\end{bmatrix}"
      ],
      "text/plain": [
       "<matrix.Matrix at 0x7f227186e200>"
      ]
     },
     "execution_count": 12,
     "metadata": {},
     "output_type": "execute_result"
    }
   ],
   "source": [
    "D = Matrix.from_columns(A.get_columns()[:2] + C.get_columns())\n",
    "D"
   ]
  },
  {
   "cell_type": "code",
   "execution_count": 13,
   "metadata": {},
   "outputs": [
    {
     "data": {
      "text/latex": [
       "\\begin{bmatrix}\n",
       "1 & 0 & 0 & -\\frac{7}{15} \\\\\n",
       "0 & 1 & 0 & -\\frac{1}{5} \\\\\n",
       "0 & 0 & 1 & \\frac{4}{3} \\\\\n",
       "0 & 0 & 0 & 0 \\\\\n",
       "\n",
       "\\end{bmatrix}"
      ],
      "text/plain": [
       "<matrix.Matrix at 0x7f227186f670>"
      ]
     },
     "execution_count": 13,
     "metadata": {},
     "output_type": "execute_result"
    }
   ],
   "source": [
    "E = D.copy().make_perfect()\n",
    "E"
   ]
  },
  {
   "attachments": {},
   "cell_type": "markdown",
   "metadata": {},
   "source": [
    "Получили базис суммы:"
   ]
  },
  {
   "cell_type": "code",
   "execution_count": 14,
   "metadata": {},
   "outputs": [
    {
     "data": {
      "text/plain": [
       "[[17, -1, 17, -9], [7, 14, 7, -14], [7, -2, 7, 0]]"
      ]
     },
     "execution_count": 14,
     "metadata": {},
     "output_type": "execute_result"
    }
   ],
   "source": [
    "D.get_columns()[:3]"
   ]
  },
  {
   "attachments": {},
   "cell_type": "markdown",
   "metadata": {},
   "source": [
    "Для поиска пересечения сначала получим матрицу $B$, отбросив от $A$ два последних столбца, т.к. они представимы в виде линейной комбинации первых двух столбцов. Теперь решим уравнение $A B x = 0$"
   ]
  },
  {
   "cell_type": "code",
   "execution_count": 15,
   "metadata": {},
   "outputs": [
    {
     "data": {
      "text/latex": [
       "\\begin{bmatrix}\n",
       "17 & 7 \\\\\n",
       "-1 & 14 \\\\\n",
       "17 & 7 \\\\\n",
       "-9 & -14 \\\\\n",
       "\n",
       "\\end{bmatrix}"
      ],
      "text/plain": [
       "<matrix.Matrix at 0x7f227186c8b0>"
      ]
     },
     "metadata": {},
     "output_type": "display_data"
    },
    {
     "data": {
      "text/latex": [
       "\\begin{bmatrix}\n",
       "-18 & 42 \\\\\n",
       "-36 & 84 \\\\\n",
       "-18 & 42 \\\\\n",
       "36 & -84 \\\\\n",
       "\n",
       "\\end{bmatrix}"
      ],
      "text/plain": [
       "<matrix.Matrix at 0x7f227186c9a0>"
      ]
     },
     "execution_count": 15,
     "metadata": {},
     "output_type": "execute_result"
    }
   ],
   "source": [
    "B = Matrix.from_columns(A.get_columns()[:2])\n",
    "display(B)\n",
    "C = A @ B\n",
    "C"
   ]
  },
  {
   "cell_type": "code",
   "execution_count": 16,
   "metadata": {},
   "outputs": [
    {
     "data": {
      "text/latex": [
       "\\begin{bmatrix}\n",
       "1 & -\\frac{7}{3} \\\\\n",
       "0 & 0 \\\\\n",
       "0 & 0 \\\\\n",
       "0 & 0 \\\\\n",
       "\n",
       "\\end{bmatrix}"
      ],
      "text/plain": [
       "<matrix.Matrix at 0x7f227186c9a0>"
      ]
     },
     "execution_count": 16,
     "metadata": {},
     "output_type": "execute_result"
    }
   ],
   "source": [
    "C.make_perfect()"
   ]
  },
  {
   "attachments": {},
   "cell_type": "markdown",
   "metadata": {},
   "source": [
    "Значит ФСР этой системы состоит из единственного вектора $(7, 3)$. Значит базис объединения тоже состоит из одного вектора:"
   ]
  },
  {
   "cell_type": "code",
   "execution_count": 17,
   "metadata": {},
   "outputs": [
    {
     "data": {
      "text/latex": [
       "\\begin{bmatrix}\n",
       "4 \\\\\n",
       "1 \\\\\n",
       "4 \\\\\n",
       "-3 \\\\\n",
       "\n",
       "\\end{bmatrix}"
      ],
      "text/plain": [
       "<matrix.Matrix at 0x7f2271861840>"
      ]
     },
     "metadata": {},
     "output_type": "display_data"
    }
   ],
   "source": [
    "e = B @ Matrix.from_column([7, 3])  # можем сократить\n",
    "display(e * Fraction(1, 35))"
   ]
  },
  {
   "attachments": {},
   "cell_type": "markdown",
   "metadata": {},
   "source": [
    "# Задача 3\n",
    "\n",
    "По лемме о стабилизации, $\\mathrm{Im} \\phi^{2019} = \\mathrm{Im} \\phi^4$, $\\mathrm{ker} \\psi^{2019} = \\mathrm{ker} \\psi^4$. Просто посчитаем базисы этих подпространств, и проверим являются ли объединения базисов линейно независимым множеством векторов, и правда ли, что его размер равен 4."
   ]
  },
  {
   "cell_type": "code",
   "execution_count": 18,
   "metadata": {},
   "outputs": [
    {
     "data": {
      "text/latex": [
       "\\begin{bmatrix}\n",
       "32 & -16 & -32 & 0 \\\\\n",
       "32 & -16 & -32 & 0 \\\\\n",
       "0 & 0 & 32 & -16 \\\\\n",
       "0 & 0 & 32 & -16 \\\\\n",
       "\n",
       "\\end{bmatrix}"
      ],
      "text/plain": [
       "<matrix.Matrix at 0x7f2271860be0>"
      ]
     },
     "metadata": {},
     "output_type": "display_data"
    },
    {
     "data": {
      "text/latex": [
       "\\begin{bmatrix}\n",
       "32 & 32 & 0 & 0 \\\\\n",
       "-16 & -16 & 0 & 0 \\\\\n",
       "-32 & -32 & 32 & 32 \\\\\n",
       "0 & 0 & -16 & -16 \\\\\n",
       "\n",
       "\\end{bmatrix}"
      ],
      "text/plain": [
       "<matrix.Matrix at 0x7f227186d150>"
      ]
     },
     "metadata": {},
     "output_type": "display_data"
    }
   ],
   "source": [
    "A = Matrix([\n",
    "    [4, -2, 3, -4],\n",
    "    [4, -2, 4, -5],\n",
    "    [0, 0, 4, -2],\n",
    "    [0, 0, 4, -2]\n",
    "])\n",
    "\n",
    "v = [-3, -7, 5, 1]\n",
    "\n",
    "B = A @ A @ A @A\n",
    "display(B)\n",
    "C = A.transpose()\n",
    "C = C @ C @ C @ C\n",
    "display(C)"
   ]
  },
  {
   "cell_type": "code",
   "execution_count": 19,
   "metadata": {},
   "outputs": [
    {
     "data": {
      "text/latex": [
       "\\begin{bmatrix}\n",
       "1 & -\\frac{1}{2} & 0 & -\\frac{1}{2} \\\\\n",
       "0 & 0 & 1 & -\\frac{1}{2} \\\\\n",
       "0 & 0 & 0 & 0 \\\\\n",
       "0 & 0 & 0 & 0 \\\\\n",
       "\n",
       "\\end{bmatrix}"
      ],
      "text/plain": [
       "<matrix.Matrix at 0x7f2271860be0>"
      ]
     },
     "metadata": {},
     "output_type": "display_data"
    },
    {
     "data": {
      "text/latex": [
       "\\begin{bmatrix}\n",
       "1 & 1 & 0 & 0 \\\\\n",
       "0 & 0 & 1 & 1 \\\\\n",
       "0 & 0 & 0 & 0 \\\\\n",
       "0 & 0 & 0 & 0 \\\\\n",
       "\n",
       "\\end{bmatrix}"
      ],
      "text/plain": [
       "<matrix.Matrix at 0x7f227186e1d0>"
      ]
     },
     "metadata": {},
     "output_type": "display_data"
    }
   ],
   "source": [
    "display(B.make_perfect())\n",
    "display(C.copy().make_perfect())"
   ]
  },
  {
   "cell_type": "code",
   "execution_count": 20,
   "metadata": {},
   "outputs": [
    {
     "data": {
      "text/latex": [
       "\\begin{bmatrix}\n",
       "0 & 0 \\\\\n",
       "0 & 0 \\\\\n",
       "0 & 0 \\\\\n",
       "0 & 0 \\\\\n",
       "\n",
       "\\end{bmatrix}"
      ],
      "text/plain": [
       "<matrix.Matrix at 0x7f22718620e0>"
      ]
     },
     "metadata": {},
     "output_type": "display_data"
    }
   ],
   "source": [
    "D = Matrix([\n",
    "    [-1, 0],\n",
    "    [1, 0],\n",
    "    [0, -1],\n",
    "    [0, 1]\n",
    "])\n",
    "\n",
    "display(C @ D)"
   ]
  },
  {
   "attachments": {},
   "cell_type": "markdown",
   "metadata": {},
   "source": [
    "Базис линейной оболочки столбцов $A^4$ состоит из столбцов 1 и 3. ФСР системы $(A^T)^4 x = 0$ состоит из векторов $(-1, 1, 0, 0)$ и $(0, 0, -1, 1)$. Получили 4 вектора, как и хотели. Теперь проверим что они линейно независимы и, если так, то разложим $v$ в сумму векторов из подпространств."
   ]
  },
  {
   "cell_type": "code",
   "execution_count": 21,
   "metadata": {},
   "outputs": [
    {
     "data": {
      "text/latex": [
       "\\begin{bmatrix}\n",
       "4 & 3 & -1 & 0 & -3 \\\\\n",
       "4 & 4 & 1 & 0 & -7 \\\\\n",
       "0 & 4 & 0 & -1 & 5 \\\\\n",
       "0 & 4 & 0 & 1 & 1 \\\\\n",
       "\n",
       "\\end{bmatrix}"
      ],
      "text/plain": [
       "<matrix.Matrix at 0x7f2271861780>"
      ]
     },
     "metadata": {},
     "output_type": "display_data"
    },
    {
     "data": {
      "text/latex": [
       "\\begin{bmatrix}\n",
       "1 & 0 & 0 & 0 & -\\frac{61}{32} \\\\\n",
       "0 & 1 & 0 & 0 & \\frac{3}{4} \\\\\n",
       "0 & 0 & 1 & 0 & -\\frac{19}{8} \\\\\n",
       "0 & 0 & 0 & 1 & -2 \\\\\n",
       "\n",
       "\\end{bmatrix}"
      ],
      "text/plain": [
       "<matrix.Matrix at 0x7f2271861780>"
      ]
     },
     "metadata": {},
     "output_type": "display_data"
    }
   ],
   "source": [
    "e_1, _, e_2, _ = A.get_columns()\n",
    "g_1, g_2 = D.get_columns()\n",
    "E = Matrix.from_columns([e_1, e_2, g_1, g_2, v])\n",
    "display(E)\n",
    "E.make_perfect()\n",
    "display(E)"
   ]
  },
  {
   "attachments": {},
   "cell_type": "markdown",
   "metadata": {},
   "source": [
    "Вектора действительно оказались линейно независимыми. Мы также получили следующее разбиение:\n",
    "$$\n",
    "v = -\\frac{61}{32} e_1 + \\frac{3}{4} e_2 - \\frac{19}{8} g_1 - 2 g_2\n",
    "$$\n",
    "где $e_1, e_2$ и $g_1, g_2$ -- базисы образа $\\phi^4$ и ядра $\\psi^4$ соответсвенно.\n",
    "\n",
    "Теперь несложно представить $v$ в виде суммы векторов из нужных подпространств:"
   ]
  },
  {
   "cell_type": "code",
   "execution_count": 22,
   "metadata": {},
   "outputs": [
    {
     "data": {
      "text/latex": [
       "\\begin{bmatrix}\n",
       "-\\frac{43}{8} \\\\\n",
       "-\\frac{37}{8} \\\\\n",
       "3 \\\\\n",
       "3 \\\\\n",
       "\n",
       "\\end{bmatrix}"
      ],
      "text/plain": [
       "<matrix.Matrix at 0x7f227186c850>"
      ]
     },
     "metadata": {},
     "output_type": "display_data"
    },
    {
     "data": {
      "text/latex": [
       "\\begin{bmatrix}\n",
       "\\frac{19}{8} \\\\\n",
       "-\\frac{19}{8} \\\\\n",
       "2 \\\\\n",
       "-2 \\\\\n",
       "\n",
       "\\end{bmatrix}"
      ],
      "text/plain": [
       "<matrix.Matrix at 0x7f2271863670>"
      ]
     },
     "metadata": {},
     "output_type": "display_data"
    }
   ],
   "source": [
    "x_1, x_2, x_3, x_4 = E.get_columns()[-1]\n",
    "v_1 = (\n",
    "    Matrix.from_column(e_1) * x_1 +\n",
    "    Matrix.from_column(e_2) * x_2\n",
    ")\n",
    "v_2 = (\n",
    "    Matrix.from_column(g_1) * x_3 +\n",
    "    Matrix.from_column(g_2) * x_4\n",
    ")\n",
    "display(v_1, v_2)"
   ]
  },
  {
   "cell_type": "code",
   "execution_count": 23,
   "metadata": {},
   "outputs": [
    {
     "data": {
      "text/latex": [
       "\\begin{bmatrix}\n",
       "-3 \\\\\n",
       "-7 \\\\\n",
       "5 \\\\\n",
       "1 \\\\\n",
       "\n",
       "\\end{bmatrix}"
      ],
      "text/plain": [
       "<matrix.Matrix at 0x7f2271861b10>"
      ]
     },
     "metadata": {},
     "output_type": "display_data"
    }
   ],
   "source": [
    "display(v_1 + v_2)"
   ]
  },
  {
   "attachments": {},
   "cell_type": "markdown",
   "metadata": {},
   "source": [
    "# Задача 5\n",
    "\n",
    "Если мы переведем вектора в базис $g$, то $\\phi(v_g) = u_g$ всё ещё соблюдается, только матрицей оператора будет $C$. Сама $C$ при этом равна $B^{-1}AB$ (действия справа налево: переведем в стандартный базис, выполним преобразование, переведем обратно в базис $g$), где $B = (g_1, g_2, g_3)$. В $C$ мы не знаем всего 3 элемента, их можно попробовать найти используя равенство $Cv_g = u_g$.\n",
    "\n",
    "В общем, сначала найдём $v_g, u_g$, а также заодно $B^{-1}$"
   ]
  },
  {
   "cell_type": "code",
   "execution_count": 24,
   "metadata": {},
   "outputs": [
    {
     "data": {
      "text/latex": [
       "\\begin{bmatrix}\n",
       "1 & -2 & 1 \\\\\n",
       "1 & -1 & 0 \\\\\n",
       "-1 & 3 & -1 \\\\\n",
       "\n",
       "\\end{bmatrix}"
      ],
      "text/plain": [
       "<matrix.Matrix at 0x7f2271860eb0>"
      ]
     },
     "metadata": {},
     "output_type": "display_data"
    },
    {
     "data": {
      "text/latex": [
       "\\begin{bmatrix}\n",
       "1 & 1 & 1 \\\\\n",
       "1 & 0 & 1 \\\\\n",
       "2 & -1 & 1 \\\\\n",
       "\n",
       "\\end{bmatrix}"
      ],
      "text/plain": [
       "<matrix.Matrix at 0x7f227186df60>"
      ]
     },
     "metadata": {},
     "output_type": "display_data"
    },
    {
     "data": {
      "text/latex": [
       "\\begin{bmatrix}\n",
       "1 & 0 & 0 & 1 & 9 \\\\\n",
       "0 & 1 & 0 & 2 & 6 \\\\\n",
       "0 & 0 & 1 & 2 & 4 \\\\\n",
       "\n",
       "\\end{bmatrix}"
      ],
      "text/plain": [
       "<matrix.Matrix at 0x7f227186d600>"
      ]
     },
     "metadata": {},
     "output_type": "display_data"
    }
   ],
   "source": [
    "g_1 = [1, 1, -1]\n",
    "g_2 = [-2, -1, 3]\n",
    "g_3 = [1, 0, -1]\n",
    "B = Matrix.from_columns([g_1, g_2, g_3])\n",
    "display(B)\n",
    "D = B.find_inverse()\n",
    "display(D)\n",
    "v = [-1, -1, 3]\n",
    "u = [1, 3, 5]\n",
    "E = Matrix.from_columns([g_1, g_2, g_3, v, u])\n",
    "display(E.make_perfect())"
   ]
  },
  {
   "attachments": {},
   "cell_type": "markdown",
   "metadata": {},
   "source": [
    "$v_g$ и $u_g$ это два последних столбца последней матрицы. Саму матрицу $C$ представим так\n",
    "$$\n",
    "C = \\begin{bmatrix}\n",
    "x & 6 & -2 \\\\\n",
    "2 & y & -2 \\\\\n",
    "4 & 2 & z\n",
    "\\end{bmatrix}\n",
    "$$\n",
    "\n",
    "Из уравнения $Cv_g = u_g$ получили систему:\n",
    "$$\n",
    "\\begin{cases}\n",
    "x + 12 - 4 = 9 \\\\\n",
    "2 + 2y - 4 = 6 \\\\\n",
    "4 + 4 + 2z = 4\n",
    "\\end{cases}\n",
    "$$\n",
    "т.е.\n",
    "$$\n",
    "\\begin{cases}\n",
    "x = 1 \\\\\n",
    "y = 4 \\\\\n",
    "z = -2\n",
    "\\end{cases}\n",
    "$$\n",
    "т.е.\n",
    "$$\n",
    "C = \\begin{bmatrix}\n",
    "1 & 6 & -2 \\\\\n",
    "2 & 4 & -2 \\\\\n",
    "4 & 2 & -2\n",
    "\\end{bmatrix}\n",
    "$$"
   ]
  },
  {
   "cell_type": "code",
   "execution_count": 25,
   "metadata": {},
   "outputs": [
    {
     "data": {
      "text/latex": [
       "\\begin{bmatrix}\n",
       "9 \\\\\n",
       "6 \\\\\n",
       "4 \\\\\n",
       "\n",
       "\\end{bmatrix}"
      ],
      "text/plain": [
       "<matrix.Matrix at 0x7f2271863d60>"
      ]
     },
     "metadata": {},
     "output_type": "display_data"
    }
   ],
   "source": [
    "v_g, u_g = E.get_columns()[3:5]\n",
    "\n",
    "C = Matrix([\n",
    "    [1, 6, -2],\n",
    "    [2, 4, -2],\n",
    "    [4, 2, -2]\n",
    "])\n",
    "\n",
    "display(C @ Matrix.from_column(v_g))"
   ]
  },
  {
   "attachments": {},
   "cell_type": "markdown",
   "metadata": {},
   "source": [
    "$C = B^{-1}AB$, следовательно $A = BCB^{-1}$. Ответом будет следующая матрица:"
   ]
  },
  {
   "cell_type": "code",
   "execution_count": 26,
   "metadata": {},
   "outputs": [
    {
     "data": {
      "text/latex": [
       "\\begin{bmatrix}\n",
       "1 & 1 & 1 \\\\\n",
       "1 & -1 & 1 \\\\\n",
       "1 & 3 & 3 \\\\\n",
       "\n",
       "\\end{bmatrix}"
      ],
      "text/plain": [
       "<matrix.Matrix at 0x7f2271863460>"
      ]
     },
     "metadata": {},
     "output_type": "display_data"
    },
    {
     "data": {
      "text/latex": [
       "\\begin{bmatrix}\n",
       "1 \\\\\n",
       "3 \\\\\n",
       "5 \\\\\n",
       "\n",
       "\\end{bmatrix}"
      ],
      "text/plain": [
       "<matrix.Matrix at 0x7f2271863d60>"
      ]
     },
     "metadata": {},
     "output_type": "display_data"
    }
   ],
   "source": [
    "A = B @ (C @ D)\n",
    "display(A)\n",
    "display(A @ Matrix.from_column(v))"
   ]
  },
  {
   "attachments": {},
   "cell_type": "markdown",
   "metadata": {},
   "source": [
    "# Задача 4\n",
    "\n",
    "У уравнения $(A - \\lambda E) v = 0$ существуют решения только в том случае, если $\\mathrm{det}(A - \\lambda E) = 0$, при этом, т.к. $n = 4$, $\\mathrm{det}(A - \\lambda E) = \\mathrm{det}(\\lambda E - A) = \\chi(\\lambda)$.\n",
    "\n",
    "Найдём характеристический многочлен и его корни. $\\chi(\\lambda) = x^4 - \\mathrm{tr}(A) x^3 + a_2 x^2 - a_1 x + \\mathrm{det}(A)$. Сразу отметим, что первые два столбца равны, а также последняя строчка равна предпоследней, домноженной на -1. Т.е. определитель матрицы равен 0, как и любой минор из которого убрали только одну ячейку на главной диагонали. Тогда:\n",
    "\n",
    "$$\n",
    "a_1 = 0 \\\\\n",
    "a_2 =\n",
    "\\left|\n",
    "\\begin{matrix}\n",
    "1 & 2 \\\\\n",
    "-1 & -3\n",
    "\\end{matrix}\n",
    "\\right|\n",
    "+\n",
    "\\left|\n",
    "\\begin{matrix}\n",
    "1 & -3 \\\\\n",
    "1 & -2\n",
    "\\end{matrix}\n",
    "\\right|\n",
    "+\n",
    "\\left|\n",
    "\\begin{matrix}\n",
    "-2 & -5 \\\\\n",
    "-1 & -3\n",
    "\\end{matrix}\n",
    "\\right|\n",
    "+\n",
    "\\left|\n",
    "\\begin{matrix}\n",
    "-2 & -4 \\\\\n",
    "1 & -2\n",
    "\\end{matrix}\n",
    "\\right| = \\\\\n",
    "-1 + 1 + 1 + 8 = 9 \\\\\n",
    "\\mathrm{tr}(A) = -2 + 1 - 2 - 3 = -6\n",
    "$$\n",
    "\n",
    "$\\chi(\\lambda) = x^4 + 6x^3 + 9x^2 = x^2(x^2 + 6x + 9) = (x(x + 3))^2$"
   ]
  },
  {
   "cell_type": "code",
   "execution_count": 27,
   "metadata": {},
   "outputs": [
    {
     "data": {
      "text/latex": [
       "\\begin{bmatrix}\n",
       "0 & 0 & 0 & 0 \\\\\n",
       "0 & 0 & 0 & 0 \\\\\n",
       "0 & 0 & 0 & 0 \\\\\n",
       "0 & 0 & 0 & 0 \\\\\n",
       "\n",
       "\\end{bmatrix}"
      ],
      "text/plain": [
       "<matrix.Matrix at 0x7f2271860df0>"
      ]
     },
     "metadata": {},
     "output_type": "display_data"
    }
   ],
   "source": [
    "A = Matrix([\n",
    "    [-2, -2, -4, -5],\n",
    "    [1, 1, -3, 2],\n",
    "    [1, 1, -2, 3],\n",
    "    [-1, -1, 2, -3]\n",
    "])\n",
    "\n",
    "x = [\n",
    "    Matrix.identity(4),\n",
    "    A,\n",
    "    A @ A,\n",
    "    A @ A @ A,\n",
    "    A @ A @ A @ A\n",
    "]\n",
    "\n",
    "display(x[4] + x[3] * 6 + x[2] * 9)"
   ]
  },
  {
   "attachments": {},
   "cell_type": "markdown",
   "metadata": {},
   "source": [
    "Получили два собственных значения: 0 и -3, оба с кратностью 2. Значит $V^0$ задаётся системой $A^2 x = 0$, а $V^{-3}$ задаётся системой $(A + 3E)^2 x = 0$. При этом $\\mathrm{Im} \\psi = V^{-3}, \\mathrm{ker} \\psi = V^0$"
   ]
  },
  {
   "attachments": {},
   "cell_type": "markdown",
   "metadata": {},
   "source": [
    "Применим стандартный алгоритм: зададим ядро системой, а образ базисом. Ядро мы уже задали, для базиса образа нужно найти ФСР соответствующей системы."
   ]
  },
  {
   "cell_type": "code",
   "execution_count": 28,
   "metadata": {},
   "outputs": [
    {
     "data": {
      "text/latex": [
       "\\begin{bmatrix}\n",
       "0 & -9 & -12 & -21 \\\\\n",
       "0 & 9 & -15 & -6 \\\\\n",
       "0 & 0 & 0 & 0 \\\\\n",
       "0 & 0 & 9 & 9 \\\\\n",
       "\n",
       "\\end{bmatrix}"
      ],
      "text/plain": [
       "<matrix.Matrix at 0x7f2271863760>"
      ]
     },
     "metadata": {},
     "output_type": "display_data"
    },
    {
     "data": {
      "text/latex": [
       "\\begin{bmatrix}\n",
       "0 & 1 & 0 & 1 \\\\\n",
       "0 & 0 & 1 & 1 \\\\\n",
       "0 & 0 & 0 & 0 \\\\\n",
       "0 & 0 & 0 & 0 \\\\\n",
       "\n",
       "\\end{bmatrix}"
      ],
      "text/plain": [
       "<matrix.Matrix at 0x7f227186c040>"
      ]
     },
     "metadata": {},
     "output_type": "display_data"
    }
   ],
   "source": [
    "B = A + Matrix.identity(4) * 3\n",
    "B = B @ B\n",
    "display(B)\n",
    "display(B.copy().make_perfect())"
   ]
  },
  {
   "cell_type": "code",
   "execution_count": 29,
   "metadata": {},
   "outputs": [
    {
     "data": {
      "text/latex": [
       "\\begin{bmatrix}\n",
       "0 & 0 & 0 & 0 \\\\\n",
       "0 & 0 & 0 & 0 \\\\\n",
       "0 & 0 & 0 & 0 \\\\\n",
       "0 & 0 & 0 & 0 \\\\\n",
       "\n",
       "\\end{bmatrix}"
      ],
      "text/plain": [
       "<matrix.Matrix at 0x7f2271862020>"
      ]
     },
     "metadata": {},
     "output_type": "display_data"
    }
   ],
   "source": [
    "C = Matrix([\n",
    "    [1, 0, 0, 0],\n",
    "    [0, -1, 0, 0],\n",
    "    [0, -1, 0, 0],\n",
    "    [0, 1, 0, 0]\n",
    "])\n",
    "\n",
    "display(B @ C)"
   ]
  },
  {
   "attachments": {},
   "cell_type": "markdown",
   "metadata": {},
   "source": [
    "ФСР состоит из двух векторов, но мы дополним его нулевыми векторами, чтобы получилась матрица $4 \\times 4$.\n",
    "\n",
    "Систему, задающую ядро, дополнительно сведём к УСВ."
   ]
  },
  {
   "cell_type": "code",
   "execution_count": 30,
   "metadata": {},
   "outputs": [
    {
     "data": {
      "text/latex": [
       "\\begin{bmatrix}\n",
       "3 & 3 & 12 & 9 \\\\\n",
       "-6 & -6 & 3 & -18 \\\\\n",
       "-6 & -6 & 3 & -18 \\\\\n",
       "6 & 6 & -3 & 18 \\\\\n",
       "\n",
       "\\end{bmatrix}"
      ],
      "text/plain": [
       "<matrix.Matrix at 0x7f2271861d80>"
      ]
     },
     "metadata": {},
     "output_type": "display_data"
    },
    {
     "data": {
      "text/latex": [
       "\\begin{bmatrix}\n",
       "1 & 1 & 0 & 3 \\\\\n",
       "0 & 0 & 1 & 0 \\\\\n",
       "0 & 0 & 0 & 0 \\\\\n",
       "0 & 0 & 0 & 0 \\\\\n",
       "\n",
       "\\end{bmatrix}"
      ],
      "text/plain": [
       "<matrix.Matrix at 0x7f2271861d80>"
      ]
     },
     "execution_count": 30,
     "metadata": {},
     "output_type": "execute_result"
    }
   ],
   "source": [
    "D = A @ A\n",
    "display(D)\n",
    "D.make_perfect()"
   ]
  },
  {
   "attachments": {},
   "cell_type": "markdown",
   "metadata": {},
   "source": [
    "Подходящая матрица имеет следующий вид:"
   ]
  },
  {
   "cell_type": "code",
   "execution_count": 31,
   "metadata": {},
   "outputs": [
    {
     "data": {
      "text/latex": [
       "\\begin{bmatrix}\n",
       "1 & 1 & 0 & 3 \\\\\n",
       "0 & 0 & -1 & 0 \\\\\n",
       "0 & 0 & -1 & 0 \\\\\n",
       "0 & 0 & 1 & 0 \\\\\n",
       "\n",
       "\\end{bmatrix}"
      ],
      "text/plain": [
       "<matrix.Matrix at 0x7f2271863820>"
      ]
     },
     "execution_count": 31,
     "metadata": {},
     "output_type": "execute_result"
    }
   ],
   "source": [
    "C @ D"
   ]
  }
 ],
 "metadata": {
  "kernelspec": {
   "display_name": "Python 3.10.7 64-bit",
   "language": "python",
   "name": "python3"
  },
  "language_info": {
   "codemirror_mode": {
    "name": "ipython",
    "version": 3
   },
   "file_extension": ".py",
   "mimetype": "text/x-python",
   "name": "python",
   "nbconvert_exporter": "python",
   "pygments_lexer": "ipython3",
   "version": "3.10.9"
  },
  "orig_nbformat": 4,
  "vscode": {
   "interpreter": {
    "hash": "767d51c1340bd893661ea55ea3124f6de3c7a262a8b4abca0554b478b1e2ff90"
   }
  }
 },
 "nbformat": 4,
 "nbformat_minor": 2
}
